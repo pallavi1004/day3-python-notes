{
 "cells": [
  {
   "cell_type": "code",
   "execution_count": 3,
   "metadata": {},
   "outputs": [
    {
     "name": "stdout",
     "output_type": "stream",
     "text": [
      "hello world\n"
     ]
    }
   ],
   "source": [
    "a=\"hello world\"\n",
    "print(a)"
   ]
  },
  {
   "cell_type": "markdown",
   "metadata": {},
   "source": [
    "                                                    PYTHON\n",
    "    \n",
    "    \n",
    "-high level, interpreted,interactive, obj oriented scripting language.\n",
    "-highly readable.\n",
    "-developed by guido van rossum in late eighties in netherland.\n",
    "-derived from many other languages.\n",
    "-copyrighted.\n",
    "-source code available under GNU(GENERAL PUBLIC LICENSE).\n",
    "-few keywords, simple structure, clearly defined syntax.\n",
    "-easy to maintain.\n",
    "-provide interfaces to all commercial databases.\n",
    "-supports functional and structured programming methods as well as oop.\n",
    "-used as scripting language.\n",
    "-provides very high level dynamic data type and supports dynamic type checking.\n",
    "-supports automatic garbage collection.\n",
    "-easily integrated with c, c++,cobra , java.\n",
    "\n",
    "\n",
    "\n",
    "=>LIST OF ALL AVAILABLE COMMAND LINE.....\n",
    "\n",
    "    -d - provides debug output.\n",
    "    -O - generates optimized bytecode(resulting in .pyo files).\n",
    "    -S - do not run to import site to look for python paths on startup.\n",
    "    -v - verbose output(detailed strace on import statements).\n",
    "    -c cmd - run PYTHON script sent in as cmd string.\n",
    "    -file - run PYTHON script from given file.\n",
    "\n"
   ]
  },
  {
   "cell_type": "markdown",
   "metadata": {},
   "source": [
    "                                                PYTHON IDENTIFIER\n",
    "    \n",
    "-use to identify name, function, class, module, or other object.\n",
    "-start with letter A to Z or a to z or underscore(_) followed by zero or more letters or digits(0-9).\n",
    "-python does not allow punctuation characters such as @,$ and % within identifiers.\n",
    "-Class name start with uppercase.\n",
    "-all other identifier start with lowercase.\n",
    "-identifier start with single underscore(_) indicates private identifier.\n",
    "-starting identifier with two leading underscore strongly private identifier.\n"
   ]
  },
  {
   "cell_type": "markdown",
   "metadata": {},
   "source": [
    "                                                 PYTHON KEYWORDS\n",
    "    \n",
    "-reserved words.\n",
    "-one cannot use them as constant or variable or any other identifier names.\n",
    "-contain lowercase letters only.\n",
    "\n"
   ]
  },
  {
   "cell_type": "markdown",
   "metadata": {},
   "source": [
    "                                                lines and indentation\n",
    "    \n",
    "-blocks of code denoted by line indentation,which is rigidly enforced.\n",
    "-no. of spaces in indentation is variable.\n",
    "-all statement within the block must be indented the same amount.\n",
    "\n"
   ]
  },
  {
   "cell_type": "markdown",
   "metadata": {},
   "source": [
    "                                                multi-line statement\n",
    "    \n",
    "-python allows use of line continuation character (\\) to denote  that line should be continue.\n",
    "\n",
    "ex.-\n",
    "     total = item_one + \\\n",
    "             item_two + \\\n",
    "             item_three\n",
    "    \n",
    "-statement contained within {}[]() brackets do not need to use line continuation character.\n",
    "\n",
    "ex.-\n",
    "     days = ['monday', 'tuesday', 'wednesday',\n",
    "            'thursday', 'friday']\n",
    "    \n",
    "    "
   ]
  },
  {
   "cell_type": "markdown",
   "metadata": {},
   "source": [
    "                                                quotation in python\n",
    "    \n",
    "-python accept single('') double(\"\") and triple (''''''/\"\"\"\"\"\") quote.\n",
    "-triple quote use to span string across multiple lines.\n",
    "\n",
    "ex.-\n",
    "    word = 'word'\n",
    "    sentence = \"This is a sentence.\"\n",
    "    paragragh = \"\"\" This is a paragragh. It is\n",
    "                made up of multiple lines and sentences.\"\"\"\n",
    "    \n",
    "    "
   ]
  },
  {
   "cell_type": "markdown",
   "metadata": {},
   "source": [
    "                                         multiple statements on single line\n",
    "    \n",
    "-semicolon allows multiple statements in single line. "
   ]
  },
  {
   "cell_type": "markdown",
   "metadata": {},
   "source": [
    "                                                    VARIABLE TYPES\n",
    "                                                    \n",
    "\n",
    "-reserved memory locations to store values.\n",
    "-based on data type of varible, interpreter allocates memory and decides what can be store in reserved memory.\n",
    "\n",
    "                                                STANDARD DATA TYPES\n",
    "                                               \n",
    "-data stored in memory can be many types.\n",
    "\n",
    "=> PYTHON HAS FIVE STANDARD DATATYPES -\n",
    "    -Numbers\n",
    "    -Strings\n",
    "    -List\n",
    "    -Tuple\n",
    "    -Dictionary\n",
    "    \n",
    "=> Python supports four different numerical types -\n",
    "    -integer\n",
    "    -long\n",
    "    -float\n",
    "    -complex\n",
    "    \n",
    "=>Python Strings -\n",
    "    -string in python identified a contigious set of characters represented in quotation mark.\n",
    "    -plus sign(+) is string concatination operator and asterik (*) is repetition operator.\n",
    "    "
   ]
  },
  {
   "cell_type": "code",
   "execution_count": 14,
   "metadata": {},
   "outputs": [
    {
     "name": "stdout",
     "output_type": "stream",
     "text": [
      "Hello world!\n",
      "H\n",
      "llo\n",
      "llo world!\n",
      "Hello world!Hello world!\n",
      "Hello world!TEST\n"
     ]
    }
   ],
   "source": [
    "    str ='Hello world!'\n",
    "    print (str)\n",
    "    print (str[0])\n",
    "    print (str[2:5])\n",
    "    print (str[2:])\n",
    "    print (str * 2)\n",
    "    print (str + \"TEST\")"
   ]
  },
  {
   "cell_type": "markdown",
   "metadata": {},
   "source": [
    "                                                    Python List\n",
    "    \n",
    "-List are most versatile python's compound datatype.\n",
    "-list contained items seperated by commas and enclosed within square brackets([]).\n",
    "-list are similar to arrays in C.\n",
    "-indexes starting at 0 in the beginning of the list and working their way to end -1.\n",
    "-plus (+) sign is the list concatenation operator, and the asterisk (*) is the repetition operator.\n"
   ]
  },
  {
   "cell_type": "code",
   "execution_count": 23,
   "metadata": {},
   "outputs": [
    {
     "name": "stdout",
     "output_type": "stream",
     "text": [
      "['abcd', 786, 2.23, 'john', 70.2]\n",
      "abcd\n",
      "[786, 2.23]\n",
      "[2.23, 'john', 70.2]\n",
      "[123, 'john', 123, 'john']\n",
      "['abcd', 786, 2.23, 'john', 70.2, 123, 'john']\n"
     ]
    }
   ],
   "source": [
    "list = ['abcd', 786, 2.23, 'john', 70.2]\n",
    "tinylist = [123, 'john']\n",
    "\n",
    "print (list)\n",
    "print (list[0])\n",
    "print(list[1:3])\n",
    "print(list[2:])\n",
    "print(tinylist *2)\n",
    "print(list+tinylist)"
   ]
  },
  {
   "cell_type": "markdown",
   "metadata": {},
   "source": [
    "                                                    Python Tuple\n",
    "    \n",
    "-tuple is another sequence datatype similar to list.\n",
    "-no. of values seperated by commas enclosed within parantheses.\n",
    "-tuples are enclosed in round brackets ().\n",
    "-tuple can be read only list."
   ]
  },
  {
   "cell_type": "code",
   "execution_count": 26,
   "metadata": {},
   "outputs": [
    {
     "name": "stdout",
     "output_type": "stream",
     "text": [
      "('abcd', 786, 2.23, 'john', 70.2)\n",
      "abcd\n",
      "(786, 2.23)\n",
      "(2.23, 'john', 70.2)\n",
      "(123, 'john', 123, 'john')\n",
      "('abcd', 786, 2.23, 'john', 70.2, 123, 'john')\n"
     ]
    }
   ],
   "source": [
    "tuple = ( 'abcd', 786 , 2.23, 'john', 70.2 )\n",
    "tinytuple = (123, 'john')\n",
    "\n",
    "print (tuple) \n",
    "print (tuple[0] )\n",
    "print (tuple[1:3]) \n",
    "print (tuple[2:])\n",
    "print (tinytuple * 2) \n",
    "print (tuple + tinytuple)"
   ]
  },
  {
   "cell_type": "markdown",
   "metadata": {},
   "source": [
    "                                                    Python Dictionary\n",
    "    \n",
    "-are kind of hash table type.\n",
    "-work like associative array or hashes found in perl and consist of key-value pairs.\n",
    "-dictionary key can be any python type but are usually numbers or strings.\n",
    "-values can be arbitary python object.\n",
    "-dictionary enclosed in {}.\n",
    "-values can be assigned and accessed using square braces([]).\n"
   ]
  },
  {
   "cell_type": "code",
   "execution_count": 28,
   "metadata": {},
   "outputs": [
    {
     "name": "stdout",
     "output_type": "stream",
     "text": [
      "This is one\n",
      "This is two\n",
      "{'name': 'john', 'code': 6734, 'dept': 'sales'}\n",
      "dict_keys(['name', 'code', 'dept'])\n",
      "dict_values(['john', 6734, 'sales'])\n"
     ]
    }
   ],
   "source": [
    "dict = {}\n",
    "dict['one'] = \"This is one\"\n",
    "dict[2] = \"This is two\"\n",
    "tinydict = {'name': 'john','code':6734, 'dept': 'sales'}\n",
    "\n",
    "print (dict['one'])\n",
    "print (dict[2]) \n",
    "print (tinydict)\n",
    "print (tinydict.keys()) \n",
    "print (tinydict.values())"
   ]
  },
  {
   "cell_type": "markdown",
   "metadata": {},
   "source": [
    "                                                Data type conversion\n",
    "    \n",
    "-sometimes you need to perform conversions between built in types.\n",
    "-to convert between types , use type name as a function.\n",
    "-there are several built in functions to perform conversion from one datatype to another.\n",
    "-these functions return new object representing converted value.\n"
   ]
  },
  {
   "cell_type": "markdown",
   "metadata": {},
   "source": [
    "                                                    Basic Operators\n",
    "    \n",
    "-operators are contructs which can manipulate value of operands.\n",
    "\n",
    "=>Python supports following types of operator -\n",
    "    -Arithmatic operator\n",
    "    -Comparison operator\n",
    "    -Assignment operator\n",
    "    -Logical operator\n",
    "    -Bitwise operator\n",
    "    -Membership operator\n",
    "    -Identity operator\n",
    "    \n",
    "    \n",
    "=>Arithmatic operator-\n",
    "        \n",
    "        a=10 b=20\n",
    "    \n",
    "    -Addition-(a+b)\n",
    "    -Subtraction-(a-b)\n",
    "    -multiplication- (a*b)\n",
    "    -division-(b/a)\n",
    "    -modulus-(b%a)=0\n",
    "    -exponent-(a**b)= 10 to the power 20\n",
    "    -floor division-(9//2)=4 and 9.0//2.0=4.0\n",
    "    "
   ]
  },
  {
   "cell_type": "code",
   "execution_count": 34,
   "metadata": {},
   "outputs": [
    {
     "name": "stdout",
     "output_type": "stream",
     "text": [
      "Line 1 - Value of c is  31\n",
      "Line 2 - Value of c is  11\n",
      "Line 3 - Value of c is  210\n",
      "Line 4 - Value of c is  2.1\n",
      "Line 5 - Value of c is  1\n",
      "Line 6 - Value of c is  8\n",
      "Line 7 - Value of c is  2\n"
     ]
    }
   ],
   "source": [
    "a = 21\n",
    "b = 10\n",
    "c = 0\n",
    "c = a + b\n",
    "print (\"Line 1 - Value of c is \", c)\n",
    "c = a - b\n",
    "print (\"Line 2 - Value of c is \", c)\n",
    "c = a * b\n",
    "print (\"Line 3 - Value of c is \", c)\n",
    "c = a / b\n",
    "print (\"Line 4 - Value of c is \", c)\n",
    "c = a % b\n",
    "print (\"Line 5 - Value of c is \", c)\n",
    "a = 2\n",
    "b = 3\n",
    "c = a**b\n",
    "print (\"Line 6 - Value of c is \", c)\n",
    "a = 10\n",
    "b = 5\n",
    "c = a//b\n",
    "print (\"Line 7 - Value of c is \", c)"
   ]
  },
  {
   "cell_type": "markdown",
   "metadata": {},
   "source": [
    "                                                    Comparision operator\n",
    "    \n",
    "-operators compare values on either sides of them and decide relation among them.\n",
    "-also known as relational operator.\n",
    "-a=10 b=20"
   ]
  },
  {
   "cell_type": "markdown",
   "metadata": {},
   "source": [
    "a=10 b=20\n",
    "\n",
    "(a == b) is not true\n",
    "(a != b) is true\n",
    "(a <> b) is true. this is similar to !=\n",
    "(a > b) is not true\n",
    "(a < b) is true\n",
    "(a >= b) is not true\n",
    "(a <= b) is true"
   ]
  },
  {
   "cell_type": "code",
   "execution_count": 47,
   "metadata": {},
   "outputs": [
    {
     "name": "stdout",
     "output_type": "stream",
     "text": [
      "Line 1 - a is not equal to b\n",
      "Line 2 - a is not equal to b\n",
      "Line 4 - a is not less than b\n",
      "Line 5 - a is greater than b\n",
      "Line 6 - a is either less than or equal to b\n",
      "Line 7 - b is either greater than or equal to b\n"
     ]
    }
   ],
   "source": [
    "a = 21\n",
    "b = 10\n",
    "c = 0\n",
    "if ( a == b ):\n",
    "    print (\"Line 1 - a is equal to b\")\n",
    "else:\n",
    "    print (\"Line 1 - a is not equal to b\")\n",
    "if ( a != b ):\n",
    "    print (\"Line 2 - a is not equal to b\")\n",
    "else:\n",
    "    print (\"Line 2 - a is equal to b\")\n",
    "if ( a < b ):\n",
    "    print (\"Line 4 - a is less than b\")\n",
    "else:\n",
    "    print (\"Line 4 - a is not less than b\")\n",
    "if ( a > b ):\n",
    "    print (\"Line 5 - a is greater than b\")\n",
    "else:\n",
    "    print (\"Line 5 - a is not greater than b\")\n",
    "a = 5;\n",
    "b = 20;\n",
    "if ( a <= b ):\n",
    "    print (\"Line 6 - a is either less than or equal to b\")\n",
    "else:\n",
    "    print (\"Line 6 - a is neither less than nor equal to b\")\n",
    "if ( b >= a ):\n",
    "    print (\"Line 7 - b is either greater than or equal to b\")\n",
    "else:\n",
    "    print (\"Line 7 - b is neither greater than nor equal to b\")"
   ]
  },
  {
   "cell_type": "markdown",
   "metadata": {},
   "source": [
    "                                                    Functions examples"
   ]
  },
  {
   "cell_type": "markdown",
   "metadata": {},
   "source": [
    "imagine a series of number from 1 to 16.\n",
    "1 2 3 4 5 6 7 8 9 10 11 12 13 14 15 16 fizz and buzz refer to any number thats multiple of 3 and 5 respectively.\n",
    "in other words if number is divisible by 3, it is substituted with fizz;\n",
    "if number is divisible by 5 it is substituted with buzz.\n",
    "if number is ismultaneously multiple of 3 and 5 , number is replaced with\"fizz buzz\" \n",
    "in essence it emulates the famous children game\"fizz buzz\"."
   ]
  },
  {
   "cell_type": "code",
   "execution_count": 83,
   "metadata": {},
   "outputs": [
    {
     "name": "stdout",
     "output_type": "stream",
     "text": [
      "1\n",
      "2\n",
      "fizz\n",
      "4\n",
      "buzz\n",
      "fizz\n",
      "7\n",
      "8\n",
      "fizz\n",
      "buzz\n",
      "11\n",
      "fizz\n",
      "13\n",
      "14\n",
      "fizzbuzz\n"
     ]
    }
   ],
   "source": [
    "\n",
    "    **************WRONG METHOD**************** FOR LOOP CAN NOT BE USED OUTSIDE THE FUNCTION************************\n",
    "\n",
    "\n",
    "for fizzbuzz in range(1,16):\n",
    "    def fizzbuzz_func():\n",
    "        if (fizzbuzz % 3 == 0 and fizzbuzz % 5 == 0) :\n",
    "            print('fizzbuzz')\n",
    "            \n",
    "        elif (fizzbuzz % 3 == 0):\n",
    "            print('fizz')\n",
    "\n",
    "        elif (fizzbuzz % 5 == 0):\n",
    "            print('buzz')\n",
    "        else:\n",
    "            print(fizzbuzz)\n",
    "            \n",
    "    fizzbuzz_func()\n",
    "      \n",
    "    "
   ]
  },
  {
   "cell_type": "code",
   "execution_count": 57,
   "metadata": {},
   "outputs": [
    {
     "name": "stdout",
     "output_type": "stream",
     "text": [
      "1\n",
      "2\n",
      "fizz\n",
      "4\n",
      "buzz\n",
      "fizz\n",
      "7\n",
      "8\n",
      "fizz\n",
      "buzz\n",
      "11\n",
      "fizz\n",
      "13\n",
      "14\n",
      "fizzbuzz\n"
     ]
    }
   ],
   "source": [
    "for fizzbuzz in range(1,16):\n",
    "    if(fizzbuzz % 3 == 0 and fizzbuzz % 5 == 0):\n",
    "        print(\"fizzbuzz\")\n",
    "        continue\n",
    "        \n",
    "    elif(fizzbuzz % 3 == 0):\n",
    "        print(\"fizz\")\n",
    "        continue\n",
    "        \n",
    "    elif(fizzbuzz % 5 == 0):\n",
    "        print(\"buzz\")\n",
    "        continue\n",
    "    \n",
    "    else:\n",
    "        print(fizzbuzz)\n",
    "        "
   ]
  },
  {
   "cell_type": "code",
   "execution_count": 99,
   "metadata": {},
   "outputs": [
    {
     "name": "stdout",
     "output_type": "stream",
     "text": [
      "1\n",
      "2\n",
      "fizz\n",
      "4\n",
      "buzz\n",
      "fizz\n",
      "7\n",
      "8\n",
      "fizz\n",
      "buzz\n",
      "11\n",
      "fizz\n",
      "13\n",
      "14\n",
      "fizzbuzz\n"
     ]
    }
   ],
   "source": [
    "\n",
    "    def fizzbuzz_func():\n",
    "        for fizzbuzz in range(1,16):\n",
    "            if (fizzbuzz % 3 == 0 and fizzbuzz % 5 == 0) :\n",
    "                print('fizzbuzz')\n",
    "            \n",
    "            elif (fizzbuzz % 3 == 0):\n",
    "                print('fizz')\n",
    "\n",
    "            elif (fizzbuzz % 5 == 0):\n",
    "                print('buzz')\n",
    "            else:\n",
    "                print(fizzbuzz)\n",
    "            \n",
    "    fizzbuzz_func()"
   ]
  },
  {
   "cell_type": "markdown",
   "metadata": {},
   "source": [
    "write a program to print the following string in specific format.\n",
    "\n",
    "str=\"\"\"Twinkle, twinkle, little star,\n",
    "            How I wonder what you are!\n",
    "                Up above the world so high,\n",
    "                Like a diamond in the sky.\n",
    "        Twinkle, twinkle, little star,\n",
    "            How I wonder what you are\n",
    "    \"\"\""
   ]
  },
  {
   "cell_type": "code",
   "execution_count": 94,
   "metadata": {},
   "outputs": [
    {
     "name": "stdout",
     "output_type": "stream",
     "text": [
      "Twinkle, twinkle, little star, \n",
      "\tHow I wonder what you are! \n",
      "\t\tUp above the world so high, \n",
      "\t\tLike a diamond in the sky. \n",
      "Twinkle, twinkle, little star, \n",
      "\tHow I wonder what you are\n"
     ]
    }
   ],
   "source": [
    "str=\"\"\"Twinkle, twinkle, little star, How I wonder what you are! Up above the world so high, Like a diamond in the sky.\n",
    "Twinkle, twinkle, little star,\n",
    "How I wonder what you are\n",
    "    \"\"\"\n",
    "print(\"Twinkle, twinkle, little star, \\n\\tHow I wonder what you are! \\n\\t\\tUp above the world so high, \\n\\t\\tLike a diamond in the sky. \\nTwinkle, twinkle, little star, \\n\\tHow I wonder what you are\")"
   ]
  },
  {
   "cell_type": "code",
   "execution_count": 166,
   "metadata": {},
   "outputs": [
    {
     "name": "stdout",
     "output_type": "stream",
     "text": [
      "1\n",
      "2\n",
      "fizz\n",
      "4\n",
      "buzz\n",
      "fizz\n",
      "7\n",
      "8\n",
      "fizz\n",
      "buzz\n",
      "11\n",
      "fizz\n",
      "13\n",
      "14\n",
      "fizzbuzz\n"
     ]
    }
   ],
   "source": [
    "#pending\n",
    "\n",
    "\n",
    "\n",
    "fb_list = list(range(1,16))\n",
    "def fizzbuzz_func(fb_list):\n",
    "    for fizzbuzz in fb_list:\n",
    "        if (fizzbuzz % 3 == 0 and fizzbuzz % 5 == 0) :\n",
    "            print('fizzbuzz')\n",
    "            \n",
    "        elif (fizzbuzz % 3 == 0):\n",
    "            print('fizz')\n",
    "\n",
    "        elif (fizzbuzz % 5 == 0):\n",
    "            print('buzz')\n",
    "        else:\n",
    "            print(fizzbuzz)\n",
    "            \n",
    "fizzbuzz_func(fb_list)"
   ]
  },
  {
   "cell_type": "code",
   "execution_count": 167,
   "metadata": {},
   "outputs": [],
   "source": [
    "def fizzbuzz_func(fb_list):\n",
    "    for fizzbuzz in fb_list:\n",
    "        if (fizzbuzz % 3 == 0 and fizzbuzz % 5 == 0) :\n",
    "            print('fizzbuzz')\n",
    "            \n",
    "        elif (fizzbuzz % 3 == 0):\n",
    "            print('fizz')\n",
    "\n",
    "        elif (fizzbuzz % 5 == 0):\n",
    "            print('buzz')\n",
    "        else:\n",
    "            print(fizzbuzz)"
   ]
  },
  {
   "cell_type": "code",
   "execution_count": 168,
   "metadata": {},
   "outputs": [],
   "source": [
    "fb_list = list(range(1,16))"
   ]
  },
  {
   "cell_type": "code",
   "execution_count": 169,
   "metadata": {},
   "outputs": [
    {
     "name": "stdout",
     "output_type": "stream",
     "text": [
      "1\n",
      "2\n",
      "fizz\n",
      "4\n",
      "buzz\n",
      "fizz\n",
      "7\n",
      "8\n",
      "fizz\n",
      "buzz\n",
      "11\n",
      "fizz\n",
      "13\n",
      "14\n",
      "fizzbuzz\n"
     ]
    }
   ],
   "source": [
    "fizzbuzz_func(fb_list)"
   ]
  },
  {
   "cell_type": "markdown",
   "metadata": {},
   "source": [
    "Write a Python program which accepts the radius of a circle from the user and compute the area.\n",
    "r = 1.1\n",
    "Area = 3.8013271108436504"
   ]
  },
  {
   "cell_type": "code",
   "execution_count": 12,
   "metadata": {},
   "outputs": [
    {
     "name": "stdout",
     "output_type": "stream",
     "text": [
      "enter the radius of circle : 1.1\n",
      "3.7994000000000008\n"
     ]
    }
   ],
   "source": [
    "pi=3.14\n",
    "r= float(input('enter the radius of circle : '))\n",
    "area=pi * r*r\n",
    "print(area)"
   ]
  },
  {
   "cell_type": "markdown",
   "metadata": {},
   "source": [
    " Write a Python program which accepts the users first and last name and print them in reverse order with a space between them."
   ]
  },
  {
   "cell_type": "code",
   "execution_count": 6,
   "metadata": {},
   "outputs": [
    {
     "name": "stdout",
     "output_type": "stream",
     "text": [
      "enter ur firstname : Pallavi\n",
      "enter ur lastname : Raut\n",
      "Hello Raut Pallavi\n"
     ]
    }
   ],
   "source": [
    "fn=input('enter ur firstname : ')\n",
    "ln=input('enter ur lastname : ')\n",
    "print(\"Hello \"+ln+\" \"+fn)"
   ]
  },
  {
   "cell_type": "markdown",
   "metadata": {},
   "source": [
    "Write a Python program which accepts a sequence of comma-separated numbers from user and generate a list and\n",
    "a tuple with those numbers."
   ]
  },
  {
   "cell_type": "code",
   "execution_count": 30,
   "metadata": {},
   "outputs": [
    {
     "name": "stdout",
     "output_type": "stream",
     "text": [
      "Enter numbers seperated with comma :4,3,5,6\n",
      "List : ['4', '3', '5', '6']\n"
     ]
    }
   ],
   "source": [
    "n = input(\"Enter numbers seperated with comma :\")\n",
    "lists = n.split(\",\")\n",
    "print('List :',lists)\n"
   ]
  },
  {
   "cell_type": "code",
   "execution_count": 1,
   "metadata": {},
   "outputs": [
    {
     "name": "stdout",
     "output_type": "stream",
     "text": [
      "Enter numbers seperated with comma :6,3,9,4\n",
      "('6', '3', '9', '4')\n"
     ]
    }
   ],
   "source": [
    "n = input(\"Enter numbers seperated with comma :\")\n",
    "lists = n.split(\",\")\n",
    "tuples = tuple(lists)\n",
    "print(tuples)"
   ]
  },
  {
   "cell_type": "markdown",
   "metadata": {},
   "source": [
    "Write a Python program to accept a filename from the user and print the extension of that.\n",
    "Sample filename : abc.java"
   ]
  },
  {
   "cell_type": "code",
   "execution_count": 4,
   "metadata": {},
   "outputs": [
    {
     "name": "stdout",
     "output_type": "stream",
     "text": [
      "Enter the file name : a.exe\n",
      "exe\n"
     ]
    }
   ],
   "source": [
    "fname = input(\"Enter the file name : \")\n",
    "fextens = fname.split(\".\")\n",
    "print(fextens[-1])"
   ]
  },
  {
   "cell_type": "markdown",
   "metadata": {},
   "source": [
    "Write a Python program to display the first and last colors from the following list.\n",
    "color_list = [\"Red\",\"Green\",\"White\" ,\"Black\"]"
   ]
  },
  {
   "cell_type": "code",
   "execution_count": 9,
   "metadata": {},
   "outputs": [
    {
     "name": "stdout",
     "output_type": "stream",
     "text": [
      "Red Black\n"
     ]
    }
   ],
   "source": [
    "color_list = [\"Red\",\"Green\",\"White\" ,\"Black\"]\n",
    "print(color_list[0], color_list[-1])"
   ]
  },
  {
   "cell_type": "markdown",
   "metadata": {},
   "source": [
    " Write a Python program to display the examination schedule. (extract the date from exam_st_date)\n",
    "exam_st_date = (11, 12, 2014)"
   ]
  },
  {
   "cell_type": "code",
   "execution_count": 13,
   "metadata": {},
   "outputs": [
    {
     "name": "stdout",
     "output_type": "stream",
     "text": [
      "The examination will start from : 11 / 12 / 2014\n"
     ]
    }
   ],
   "source": [
    "exam_st_date = (11, 12, 2014)\n",
    "print(f\"The examination will start from : {exam_st_date[0]} / {exam_st_date[1]} / {exam_st_date[2]}\")"
   ]
  },
  {
   "cell_type": "markdown",
   "metadata": {},
   "source": [
    "Write a Python program that accepts an integer (n) and computes the value of n+nn+nnn.\n",
    "Sample value of n is 5"
   ]
  },
  {
   "cell_type": "code",
   "execution_count": 5,
   "metadata": {},
   "outputs": [
    {
     "name": "stdout",
     "output_type": "stream",
     "text": [
      "result = 615\n"
     ]
    }
   ],
   "source": [
    "n=5\n",
    "nn=n*10+n\n",
    "nnn=n*100+nn\n",
    "result=n+nn+nnn\n",
    "print(\"result =\",result)"
   ]
  },
  {
   "cell_type": "code",
   "execution_count": 4,
   "metadata": {},
   "outputs": [
    {
     "name": "stdout",
     "output_type": "stream",
     "text": [
      "input an integer :5\n",
      "Total = 615\n"
     ]
    }
   ],
   "source": [
    "n1 = input(\"input an integer :\")\n",
    "n2=n1*2\n",
    "n3=n1*3\n",
    "op=int(n1)+int(n2)+int(n3)\n",
    "print(\"Total =\",op)"
   ]
  },
  {
   "cell_type": "markdown",
   "metadata": {},
   "source": [
    "Write a Python program to print the documents (syntax, description etc.) of Python built-in function(s).\n",
    "Sample function : abs()"
   ]
  },
  {
   "cell_type": "code",
   "execution_count": 12,
   "metadata": {},
   "outputs": [
    {
     "name": "stdout",
     "output_type": "stream",
     "text": [
      "Return the absolute value of the argument.\n"
     ]
    }
   ],
   "source": [
    "#need to understand\n",
    "\n",
    "\n",
    "print(abs.__doc__)"
   ]
  },
  {
   "cell_type": "markdown",
   "metadata": {},
   "source": [
    "Write a Python program to print the calendar of a given month and year.\n",
    "Note : Use 'calendar' module."
   ]
  },
  {
   "cell_type": "code",
   "execution_count": 14,
   "metadata": {},
   "outputs": [
    {
     "ename": "SyntaxError",
     "evalue": "invalid syntax (<ipython-input-14-64223f7e4385>, line 1)",
     "output_type": "error",
     "traceback": [
      "\u001b[1;36m  File \u001b[1;32m\"<ipython-input-14-64223f7e4385>\"\u001b[1;36m, line \u001b[1;32m1\u001b[0m\n\u001b[1;33m    Write a Python program to print the following here document.\u001b[0m\n\u001b[1;37m          ^\u001b[0m\n\u001b[1;31mSyntaxError\u001b[0m\u001b[1;31m:\u001b[0m invalid syntax\n"
     ]
    }
   ],
   "source": [
    "#study pending"
   ]
  },
  {
   "cell_type": "markdown",
   "metadata": {},
   "source": [
    "Write a Python program to print the following here document.\n",
    "Sample string :\n",
    "a string that you \"don't\" have to escape\n",
    "This\n",
    "is a ....... multi-line\n",
    "heredoc string --------> example"
   ]
  },
  {
   "cell_type": "code",
   "execution_count": 20,
   "metadata": {},
   "outputs": [
    {
     "name": "stdout",
     "output_type": "stream",
     "text": [
      " a string that you \"don't\" have to escape \n",
      " This \n",
      " is a ....... multi-line \n",
      " heredoc string -------> example\n"
     ]
    }
   ],
   "source": [
    "print(\"\"\" a string that you \"don't\" have to escape \\n This \\n is a ....... multi-line \\n heredoc string -------> example\"\"\")"
   ]
  },
  {
   "cell_type": "code",
   "execution_count": 22,
   "metadata": {},
   "outputs": [
    {
     "name": "stdout",
     "output_type": "stream",
     "text": [
      "a string that you \"don't\" have to escape\n",
      "This\n",
      "is a ....... multi-line \n",
      "heredoc string -------> example\n"
     ]
    }
   ],
   "source": [
    "print(\"\"\"a string that you \"don't\" have to escape\n",
    "This\n",
    "is a ....... multi-line \n",
    "heredoc string -------> example\"\"\")"
   ]
  },
  {
   "cell_type": "markdown",
   "metadata": {},
   "source": [
    "Write a Python program to calculate number of days between two dates.\n",
    "Sample dates : (2014, 7, 2), (2014, 7, 11)"
   ]
  },
  {
   "cell_type": "code",
   "execution_count": 34,
   "metadata": {},
   "outputs": [
    {
     "name": "stdout",
     "output_type": "stream",
     "text": [
      "days between two dates are  9\n"
     ]
    }
   ],
   "source": [
    "currentd = (2014, 7, 11)\n",
    "pastd = (2014, 7, 2)\n",
    "days = currentd[0] - pastd[0], currentd[1] - pastd[1], currentd[2] - pastd[2]\n",
    "print(\"days between two dates are \",days[2])"
   ]
  },
  {
   "cell_type": "markdown",
   "metadata": {},
   "source": [
    "Write a Python program to get the volume of a sphere with radius 6."
   ]
  },
  {
   "cell_type": "code",
   "execution_count": 48,
   "metadata": {},
   "outputs": [
    {
     "name": "stdout",
     "output_type": "stream",
     "text": [
      "enter radius of sphere =6\n",
      "volume of sphere = 904.3199999999999\n"
     ]
    }
   ],
   "source": [
    "r= input(\"enter radius of sphere =\")\n",
    "rd=int(r)\n",
    "rad=rd**3                                      #rd*rd*rd\n",
    "R=float(rad)\n",
    "pi=3.14\n",
    "volume=4.0/3.0*pi*R\n",
    "print('volume of sphere =',volume)"
   ]
  },
  {
   "cell_type": "markdown",
   "metadata": {},
   "source": [
    "Write a Python program to get the difference between a given number and 17, if the number is greater than 17 \n",
    "return double the absolute difference."
   ]
  },
  {
   "cell_type": "code",
   "execution_count": null,
   "metadata": {},
   "outputs": [],
   "source": [
    "n= input(\"enter the number :\")\n",
    "if(n<=17):\n",
    "    diff = (17-n)\n",
    "    print(diff)\n",
    "else:\n",
    "    diff = (n-17)*2\n",
    "    print(diff)"
   ]
  },
  {
   "cell_type": "code",
   "execution_count": null,
   "metadata": {},
   "outputs": [],
   "source": []
  }
 ],
 "metadata": {
  "kernelspec": {
   "display_name": "Python 3",
   "language": "python",
   "name": "python3"
  },
  "language_info": {
   "codemirror_mode": {
    "name": "ipython",
    "version": 3
   },
   "file_extension": ".py",
   "mimetype": "text/x-python",
   "name": "python",
   "nbconvert_exporter": "python",
   "pygments_lexer": "ipython3",
   "version": "3.8.5"
  }
 },
 "nbformat": 4,
 "nbformat_minor": 4
}
